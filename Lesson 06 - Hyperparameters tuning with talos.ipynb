{
 "cells": [
  {
   "cell_type": "markdown",
   "metadata": {},
   "source": [
    "# Lesson 06 - Hyperparameters tuning with talos\n",
    "\n",
    "Talos (https://github.com/autonomio/talos) is one of the libraries allowing to optimize hyperparameters of ANN models. It is designed to complement Keras. Before you proceed further, please install the library."
   ]
  },
  {
   "cell_type": "code",
   "execution_count": 1,
   "metadata": {
    "ExecuteTime": {
     "end_time": "2020-01-13T11:23:20.572437Z",
     "start_time": "2020-01-13T11:23:11.637270Z"
    }
   },
   "outputs": [
    {
     "name": "stderr",
     "output_type": "stream",
     "text": [
      "C:\\Users\\user\\Anaconda3\\envs\\ml\\lib\\site-packages\\h5py\\__init__.py:72: UserWarning: h5py is running against HDF5 1.10.2 when it was built against 1.10.3, this may cause problems\n",
      "  '{0}.{1}.{2}'.format(*version.hdf5_built_version_tuple)\n",
      "Using TensorFlow backend.\n"
     ]
    }
   ],
   "source": [
    "import talos as ta"
   ]
  },
  {
   "cell_type": "code",
   "execution_count": 2,
   "metadata": {
    "ExecuteTime": {
     "end_time": "2020-01-13T11:23:24.931473Z",
     "start_time": "2020-01-13T11:23:20.584431Z"
    }
   },
   "outputs": [],
   "source": [
    "import pandas as pd\n",
    "import numpy as np\n",
    "\n",
    "\n",
    "import sklearn\n",
    "\n",
    "import matplotlib.pyplot as plt\n",
    "import seaborn as sns\n",
    "%matplotlib inline\n",
    "\n",
    "from sklearn.pipeline import Pipeline\n",
    "from keras.wrappers.scikit_learn import KerasRegressor, KerasClassifier\n",
    "from sklearn.preprocessing import StandardScaler, QuantileTransformer, MinMaxScaler, RobustScaler\n",
    "\n",
    "from keras.models import Model\n",
    "from keras.optimizers import Adam\n",
    "from keras.layers import TimeDistributed, GlobalAveragePooling1D, Activation, Input, LSTM, GRU, Dense, Dropout, Flatten, Embedding, SpatialDropout1D, Bidirectional, CuDNNGRU\n",
    "from keras.layers.convolutional import Conv1D, MaxPooling1D, AveragePooling1D\n",
    "from keras.layers.normalization import BatchNormalization\n",
    "from keras.layers import Flatten, concatenate\n",
    "from keras.engine.topology import Layer\n",
    "from keras import initializers, regularizers, constraints, activations\n",
    "from keras.layers.recurrent import Recurrent\n",
    "from keras.engine import InputSpec\n",
    "from keras.callbacks import ModelCheckpoint, EarlyStopping, LearningRateScheduler, ReduceLROnPlateau, CSVLogger\n",
    "\n",
    "import tensorflow as tf\n",
    "from tensorflow import set_random_seed\n",
    "from keras import backend as K\n",
    "\n",
    "# This part required only for GPU\n",
    "config = tf.ConfigProto()\n",
    "config.gpu_options.allow_growth = True\n",
    "config.gpu_options.allocator_type = 'BFC'\n",
    "sess = tf.Session(config=config)\n",
    "K.set_session(sess)\n",
    "\n",
    "\n",
    "seed = 10293239"
   ]
  },
  {
   "cell_type": "code",
   "execution_count": 3,
   "metadata": {
    "ExecuteTime": {
     "end_time": "2020-01-13T11:23:40.306388Z",
     "start_time": "2020-01-13T11:23:40.295394Z"
    }
   },
   "outputs": [],
   "source": [
    "%matplotlib inline\n",
    "import matplotlib.pyplot as plt\n",
    "import itertools\n",
    "\n",
    "def plot_confusion_matrix(cm, classes,\n",
    "                          normalize=False,\n",
    "                          title='Confusion matrix',\n",
    "                          cmap=plt.cm.Blues):\n",
    "    \"\"\"\n",
    "    This function prints and plots the confusion matrix.\n",
    "    Normalization can be applied by setting `normalize=True`.\n",
    "    \"\"\"\n",
    "    np.set_printoptions(precision=2)\n",
    "\n",
    "    if normalize:\n",
    "        cm = cm.astype('float') / cm.sum(axis=1)[:, np.newaxis]\n",
    "\n",
    "    plt.imshow(cm, interpolation='nearest', cmap=cmap)\n",
    "    plt.title(title)\n",
    "    plt.colorbar()\n",
    "    tick_marks = np.arange(len(classes))\n",
    "    plt.xticks(tick_marks, classes, rotation=45)\n",
    "    plt.yticks(tick_marks, classes)\n",
    "\n",
    "    fmt = '.2f' if normalize else 'd'\n",
    "    thresh = cm.max() / 2.\n",
    "    for i, j in itertools.product(range(cm.shape[0]), range(cm.shape[1])):\n",
    "        plt.text(j, i, format(cm[i, j], fmt),\n",
    "                 horizontalalignment=\"center\",\n",
    "                 color=\"white\" if cm[i, j] > thresh else \"black\")\n",
    "\n",
    "    plt.tight_layout()\n",
    "    plt.ylabel('True label')\n",
    "    plt.xlabel('Predicted label')\n"
   ]
  },
  {
   "cell_type": "markdown",
   "metadata": {},
   "source": [
    "## Load data and basic info\n",
    "\n",
    "Let's load the same dataset as in Lesson 01."
   ]
  },
  {
   "cell_type": "code",
   "execution_count": 4,
   "metadata": {
    "ExecuteTime": {
     "end_time": "2020-01-13T11:23:44.033939Z",
     "start_time": "2020-01-13T11:23:43.832938Z"
    }
   },
   "outputs": [],
   "source": [
    "bugs = pd.read_csv('./data/bugs_train.csv', parse_dates=['Opened', 'Changed'], index_col=None)"
   ]
  },
  {
   "cell_type": "code",
   "execution_count": 5,
   "metadata": {
    "ExecuteTime": {
     "end_time": "2020-01-13T11:23:45.273512Z",
     "start_time": "2020-01-13T11:23:45.255521Z"
    }
   },
   "outputs": [
    {
     "data": {
      "text/html": [
       "<div>\n",
       "<style scoped>\n",
       "    .dataframe tbody tr th:only-of-type {\n",
       "        vertical-align: middle;\n",
       "    }\n",
       "\n",
       "    .dataframe tbody tr th {\n",
       "        vertical-align: top;\n",
       "    }\n",
       "\n",
       "    .dataframe thead th {\n",
       "        text-align: right;\n",
       "    }\n",
       "</style>\n",
       "<table border=\"1\" class=\"dataframe\">\n",
       "  <thead>\n",
       "    <tr style=\"text-align: right;\">\n",
       "      <th></th>\n",
       "      <th>Component</th>\n",
       "      <th>Assignee</th>\n",
       "      <th>Status</th>\n",
       "      <th>Summary</th>\n",
       "      <th>Opened</th>\n",
       "      <th>Changed</th>\n",
       "      <th>Priority</th>\n",
       "      <th>Severity</th>\n",
       "      <th>Resolution</th>\n",
       "    </tr>\n",
       "  </thead>\n",
       "  <tbody>\n",
       "    <tr>\n",
       "      <th>0</th>\n",
       "      <td>Debug</td>\n",
       "      <td>eclipse</td>\n",
       "      <td>VERIFIED</td>\n",
       "      <td>Icons needed for actions (1GI5UXW)</td>\n",
       "      <td>2001-10-10 22:14:41</td>\n",
       "      <td>2001-10-18 11:51:14</td>\n",
       "      <td>P1</td>\n",
       "      <td>enhancement</td>\n",
       "      <td>FIXED</td>\n",
       "    </tr>\n",
       "    <tr>\n",
       "      <th>1</th>\n",
       "      <td>Debug</td>\n",
       "      <td>darin.eclipse</td>\n",
       "      <td>RESOLVED</td>\n",
       "      <td>README: Hit count not reset (1GET20Y)</td>\n",
       "      <td>2001-10-10 22:14:42</td>\n",
       "      <td>2001-11-28 13:42:46</td>\n",
       "      <td>P3</td>\n",
       "      <td>normal</td>\n",
       "      <td>WORKSFORME</td>\n",
       "    </tr>\n",
       "    <tr>\n",
       "      <th>2</th>\n",
       "      <td>Debug</td>\n",
       "      <td>darin.eclipse</td>\n",
       "      <td>CLOSED</td>\n",
       "      <td>Use styled text in console (1G9S1YF)</td>\n",
       "      <td>2001-10-10 22:14:43</td>\n",
       "      <td>2002-06-26 11:32:05</td>\n",
       "      <td>P3</td>\n",
       "      <td>normal</td>\n",
       "      <td>WONTFIX</td>\n",
       "    </tr>\n",
       "    <tr>\n",
       "      <th>3</th>\n",
       "      <td>Debug</td>\n",
       "      <td>eclipse</td>\n",
       "      <td>VERIFIED</td>\n",
       "      <td>StringBuffer representation (1GE3BFA)</td>\n",
       "      <td>2001-10-10 22:14:44</td>\n",
       "      <td>2014-12-02 06:37:26</td>\n",
       "      <td>P3</td>\n",
       "      <td>normal</td>\n",
       "      <td>FIXED</td>\n",
       "    </tr>\n",
       "  </tbody>\n",
       "</table>\n",
       "</div>"
      ],
      "text/plain": [
       "  Component       Assignee    Status                                Summary  \\\n",
       "0     Debug        eclipse  VERIFIED     Icons needed for actions (1GI5UXW)   \n",
       "1     Debug  darin.eclipse  RESOLVED  README: Hit count not reset (1GET20Y)   \n",
       "2     Debug  darin.eclipse    CLOSED   Use styled text in console (1G9S1YF)   \n",
       "3     Debug        eclipse  VERIFIED  StringBuffer representation (1GE3BFA)   \n",
       "\n",
       "               Opened             Changed Priority     Severity  Resolution  \n",
       "0 2001-10-10 22:14:41 2001-10-18 11:51:14       P1  enhancement       FIXED  \n",
       "1 2001-10-10 22:14:42 2001-11-28 13:42:46       P3       normal  WORKSFORME  \n",
       "2 2001-10-10 22:14:43 2002-06-26 11:32:05       P3       normal     WONTFIX  \n",
       "3 2001-10-10 22:14:44 2014-12-02 06:37:26       P3       normal       FIXED  "
      ]
     },
     "execution_count": 5,
     "metadata": {},
     "output_type": "execute_result"
    }
   ],
   "source": [
    "bugs.head(4)"
   ]
  },
  {
   "cell_type": "markdown",
   "metadata": {},
   "source": [
    "## The classification task (the problem to solve)\n",
    "\n",
    "Our task remains the same for this lesson - we would be to predict what will be the resolution of the defect report (y) based on the description of a defect (X). "
   ]
  },
  {
   "cell_type": "markdown",
   "metadata": {},
   "source": [
    "## Data preparation (features)\n",
    "\n",
    "Let's quickly replicate processing of the Component and Severity features, as well as converting the decision class."
   ]
  },
  {
   "cell_type": "code",
   "execution_count": 6,
   "metadata": {
    "ExecuteTime": {
     "end_time": "2020-01-13T11:23:53.770480Z",
     "start_time": "2020-01-13T11:23:48.942509Z"
    }
   },
   "outputs": [],
   "source": [
    "# we will make a copy of the main data\n",
    "bugs_small = bugs[[\"Assignee\", \"Component\", \"Severity\", \"Status\", \"Priority\", \"Opened\", \"Changed\", \"Summary\", \"Resolution\"]]\n",
    "\n",
    "# Component\n",
    "bugs_small = pd.get_dummies(bugs_small, columns=['Component'], prefix=\"Component\")\n",
    "\n",
    "# Severity\n",
    "bugs_small['Severity'] = bugs_small['Severity'].map(\n",
    "    {'enhancement':0, 'trivial':1, 'minor':2, 'normal':3, 'major':4, 'critical':5, 'blocker':6})\n",
    "\n",
    "# Status\n",
    "bugs_small['Status'] = bugs_small['Status'].map(\n",
    "    {'VERIFIED':0, 'RESOLVED':1, 'CLOSED':2})\n",
    "\n",
    "# Priority\n",
    "bugs_small['Priority'] = bugs_small['Priority'].map(\n",
    "    {'P1':1, 'P2':2, 'P3':3, 'P4':4, 'P5':5})\n",
    "\n",
    "\n",
    "y = bugs_small['Resolution']\n",
    "X = bugs_small.drop(['Resolution'], axis=1, inplace=False)\n",
    "\n",
    "\n",
    "# Days\n",
    "X['Days'] = X.apply(lambda x: (x.Changed - x.Opened).days, axis=1)\n",
    "X.drop([\"Changed\", \"Opened\"], inplace=True, axis=1)\n",
    "\n",
    "# Summary as BoW\n",
    "X['Summary'] = X['Summary'].fillna('')\n",
    "from sklearn.feature_extraction.text import CountVectorizer\n",
    "\n",
    "# create CountVectorizer class; we take only 30 most frequently appearing features\n",
    "count_vect = CountVectorizer(max_features=30, stop_words=\"english\")\n",
    "\n",
    "# CountVectorizer fit method extracts vocabulary while transform performs the transformation. There is also\n",
    "# the method fit_transform that does both.\n",
    "bag_of_words = count_vect.fit_transform(list(X['Summary'])).todense()\n",
    "\n",
    "# We create a list of names of columns \n",
    "colnames = [\"Summary_\"+x for x in sorted(count_vect.vocabulary_.keys())]\n",
    "\n",
    "# Finally, we create a dataframe with bag of words features\n",
    "summary_bow = pd.DataFrame(bag_of_words, columns=colnames)\n",
    "X = pd.concat([X.reset_index(drop=True), summary_bow], axis=1)\n",
    "X.drop([\"Summary\"], inplace=True, axis=1)\n",
    "\n",
    "# Assignee\n",
    "inbox = [1 if x.endswith('-inbox') else 0 for x in bugs_small['Assignee']]\n",
    "X.insert(loc=0, column='Assignee_Inbox', value=pd.Series(inbox))\n",
    "    \n",
    "eclipse = [1 if x.endswith('eclipse') else 0 for x in bugs_small['Assignee']]\n",
    "X.insert(loc=0, column='Assignee_Eclipse', value=pd.Series(eclipse))\n",
    "X.drop([\"Assignee\"], inplace=True, axis=1)\n"
   ]
  },
  {
   "cell_type": "code",
   "execution_count": 7,
   "metadata": {
    "ExecuteTime": {
     "end_time": "2020-01-13T11:23:53.991370Z",
     "start_time": "2020-01-13T11:23:53.973378Z"
    },
    "scrolled": true
   },
   "outputs": [
    {
     "data": {
      "text/html": [
       "<div>\n",
       "<style scoped>\n",
       "    .dataframe tbody tr th:only-of-type {\n",
       "        vertical-align: middle;\n",
       "    }\n",
       "\n",
       "    .dataframe tbody tr th {\n",
       "        vertical-align: top;\n",
       "    }\n",
       "\n",
       "    .dataframe thead th {\n",
       "        text-align: right;\n",
       "    }\n",
       "</style>\n",
       "<table border=\"1\" class=\"dataframe\">\n",
       "  <thead>\n",
       "    <tr style=\"text-align: right;\">\n",
       "      <th></th>\n",
       "      <th>Assignee_Eclipse</th>\n",
       "      <th>Assignee_Inbox</th>\n",
       "      <th>Severity</th>\n",
       "      <th>Status</th>\n",
       "      <th>Priority</th>\n",
       "      <th>Component_APT</th>\n",
       "      <th>Component_Core</th>\n",
       "      <th>Component_Debug</th>\n",
       "      <th>Component_Doc</th>\n",
       "      <th>Component_Text</th>\n",
       "      <th>...</th>\n",
       "      <th>Summary_npe</th>\n",
       "      <th>Summary_package</th>\n",
       "      <th>Summary_project</th>\n",
       "      <th>Summary_quick</th>\n",
       "      <th>Summary_refactoring</th>\n",
       "      <th>Summary_search</th>\n",
       "      <th>Summary_source</th>\n",
       "      <th>Summary_type</th>\n",
       "      <th>Summary_view</th>\n",
       "      <th>Summary_work</th>\n",
       "    </tr>\n",
       "  </thead>\n",
       "  <tbody>\n",
       "    <tr>\n",
       "      <th>0</th>\n",
       "      <td>1</td>\n",
       "      <td>0</td>\n",
       "      <td>0</td>\n",
       "      <td>0</td>\n",
       "      <td>1</td>\n",
       "      <td>0</td>\n",
       "      <td>0</td>\n",
       "      <td>1</td>\n",
       "      <td>0</td>\n",
       "      <td>0</td>\n",
       "      <td>...</td>\n",
       "      <td>0</td>\n",
       "      <td>0</td>\n",
       "      <td>0</td>\n",
       "      <td>0</td>\n",
       "      <td>0</td>\n",
       "      <td>0</td>\n",
       "      <td>0</td>\n",
       "      <td>0</td>\n",
       "      <td>0</td>\n",
       "      <td>0</td>\n",
       "    </tr>\n",
       "    <tr>\n",
       "      <th>1</th>\n",
       "      <td>1</td>\n",
       "      <td>0</td>\n",
       "      <td>3</td>\n",
       "      <td>1</td>\n",
       "      <td>3</td>\n",
       "      <td>0</td>\n",
       "      <td>0</td>\n",
       "      <td>1</td>\n",
       "      <td>0</td>\n",
       "      <td>0</td>\n",
       "      <td>...</td>\n",
       "      <td>0</td>\n",
       "      <td>0</td>\n",
       "      <td>0</td>\n",
       "      <td>0</td>\n",
       "      <td>0</td>\n",
       "      <td>0</td>\n",
       "      <td>0</td>\n",
       "      <td>0</td>\n",
       "      <td>0</td>\n",
       "      <td>0</td>\n",
       "    </tr>\n",
       "    <tr>\n",
       "      <th>2</th>\n",
       "      <td>1</td>\n",
       "      <td>0</td>\n",
       "      <td>3</td>\n",
       "      <td>2</td>\n",
       "      <td>3</td>\n",
       "      <td>0</td>\n",
       "      <td>0</td>\n",
       "      <td>1</td>\n",
       "      <td>0</td>\n",
       "      <td>0</td>\n",
       "      <td>...</td>\n",
       "      <td>0</td>\n",
       "      <td>0</td>\n",
       "      <td>0</td>\n",
       "      <td>0</td>\n",
       "      <td>0</td>\n",
       "      <td>0</td>\n",
       "      <td>0</td>\n",
       "      <td>0</td>\n",
       "      <td>0</td>\n",
       "      <td>0</td>\n",
       "    </tr>\n",
       "    <tr>\n",
       "      <th>3</th>\n",
       "      <td>1</td>\n",
       "      <td>0</td>\n",
       "      <td>3</td>\n",
       "      <td>0</td>\n",
       "      <td>3</td>\n",
       "      <td>0</td>\n",
       "      <td>0</td>\n",
       "      <td>1</td>\n",
       "      <td>0</td>\n",
       "      <td>0</td>\n",
       "      <td>...</td>\n",
       "      <td>0</td>\n",
       "      <td>0</td>\n",
       "      <td>0</td>\n",
       "      <td>0</td>\n",
       "      <td>0</td>\n",
       "      <td>0</td>\n",
       "      <td>0</td>\n",
       "      <td>0</td>\n",
       "      <td>0</td>\n",
       "      <td>0</td>\n",
       "    </tr>\n",
       "  </tbody>\n",
       "</table>\n",
       "<p>4 rows × 42 columns</p>\n",
       "</div>"
      ],
      "text/plain": [
       "   Assignee_Eclipse  Assignee_Inbox  Severity  Status  Priority  \\\n",
       "0                 1               0         0       0         1   \n",
       "1                 1               0         3       1         3   \n",
       "2                 1               0         3       2         3   \n",
       "3                 1               0         3       0         3   \n",
       "\n",
       "   Component_APT  Component_Core  Component_Debug  Component_Doc  \\\n",
       "0              0               0                1              0   \n",
       "1              0               0                1              0   \n",
       "2              0               0                1              0   \n",
       "3              0               0                1              0   \n",
       "\n",
       "   Component_Text      ...       Summary_npe  Summary_package  \\\n",
       "0               0      ...                 0                0   \n",
       "1               0      ...                 0                0   \n",
       "2               0      ...                 0                0   \n",
       "3               0      ...                 0                0   \n",
       "\n",
       "   Summary_project  Summary_quick  Summary_refactoring  Summary_search  \\\n",
       "0                0              0                    0               0   \n",
       "1                0              0                    0               0   \n",
       "2                0              0                    0               0   \n",
       "3                0              0                    0               0   \n",
       "\n",
       "   Summary_source  Summary_type  Summary_view  Summary_work  \n",
       "0               0             0             0             0  \n",
       "1               0             0             0             0  \n",
       "2               0             0             0             0  \n",
       "3               0             0             0             0  \n",
       "\n",
       "[4 rows x 42 columns]"
      ]
     },
     "execution_count": 7,
     "metadata": {},
     "output_type": "execute_result"
    }
   ],
   "source": [
    "X.head(4)"
   ]
  },
  {
   "cell_type": "markdown",
   "metadata": {},
   "source": [
    "Let's simplify the problem to binary classification => resulolution FIXED, NOT FIXED"
   ]
  },
  {
   "cell_type": "code",
   "execution_count": 8,
   "metadata": {
    "ExecuteTime": {
     "end_time": "2020-01-13T11:23:54.208586Z",
     "start_time": "2020-01-13T11:23:54.197590Z"
    }
   },
   "outputs": [
    {
     "data": {
      "text/plain": [
       "array([1, 0, 0, ..., 0, 0, 0])"
      ]
     },
     "execution_count": 8,
     "metadata": {},
     "output_type": "execute_result"
    }
   ],
   "source": [
    "y_binary = np.array([1 if x == \"FIXED\" else 0 for x in y])\n",
    "y_binary"
   ]
  },
  {
   "cell_type": "markdown",
   "metadata": {},
   "source": [
    "## Optimize hyperparameters using talos\n",
    "\n",
    "In the previous lesson, we built a simple ANN for the considered problem. We will use talos to systematically search through the space of hyperparameters. "
   ]
  },
  {
   "cell_type": "markdown",
   "metadata": {},
   "source": [
    "### Create a template function for model creation\n",
    "\n",
    "Talos requires us to prepare a template function that will train and return a model. One of the parameters of is a dictionary containing parameters to be used while creating the model.\n"
   ]
  },
  {
   "cell_type": "code",
   "execution_count": 9,
   "metadata": {
    "ExecuteTime": {
     "end_time": "2020-01-13T11:24:25.893090Z",
     "start_time": "2020-01-13T11:24:25.886094Z"
    }
   },
   "outputs": [],
   "source": [
    "def get_model(x_train, y_train, x_val, y_val, params):\n",
    "    \n",
    "    global seed\n",
    "    np.random.seed(seed)\n",
    "    set_random_seed(seed)\n",
    "    \n",
    "    main_input = Input(shape=(params['n_features'],), name='input')\n",
    "    model = main_input\n",
    "    for layer in params['layers']:\n",
    "        model = Dense(layer['n'], activation=\"relu\")(model)\n",
    "    model = Dropout(params['dropout'])(model)  \n",
    "    output = Dense(1, activation=\"sigmoid\")(model)\n",
    "    \n",
    "    model = Model([main_input] , output)\n",
    "    algorithm = Adam(lr=0.005, beta_1=0.95, beta_2=0.999, epsilon=1e-08, decay=0.0)\n",
    "    model.compile(optimizer=algorithm, loss='binary_crossentropy', metrics=['accuracy'])\n",
    "    \n",
    "    callbacks_list = [\n",
    "        ReduceLROnPlateau( \n",
    "            monitor='loss',\n",
    "            min_lr=0.001,\n",
    "            factor=0.5,\n",
    "            verbose=1,\n",
    "            patience=10), \n",
    "    ]\n",
    "    \n",
    "    out = model.fit(x_train, y_train,\n",
    "                    batch_size=params['batch_size'],\n",
    "                    epochs=params['epochs'],\n",
    "                    verbose=0,\n",
    "                    validation_data=[x_val, y_val])\n",
    "    return out, model"
   ]
  },
  {
   "cell_type": "code",
   "execution_count": 24,
   "metadata": {
    "ExecuteTime": {
     "end_time": "2020-01-13T11:38:30.721335Z",
     "start_time": "2020-01-13T11:38:30.715337Z"
    }
   },
   "outputs": [],
   "source": [
    "p = {'layers': [\n",
    "        [{'n' : 20}],\n",
    "        [{'n' : 20}, {'n' : 20}],\n",
    "    ], \n",
    "    'n_features' : [X.shape[1]],\n",
    "    'batch_size': [128, 256],\n",
    "    'epochs': [5, 10, 15],\n",
    "    'dropout': [0, 0.2, 0.3],\n",
    "}"
   ]
  },
  {
   "cell_type": "code",
   "execution_count": 43,
   "metadata": {
    "ExecuteTime": {
     "end_time": "2020-01-13T12:02:39.877496Z",
     "start_time": "2020-01-13T12:01:14.126887Z"
    }
   },
   "outputs": [
    {
     "name": "stderr",
     "output_type": "stream",
     "text": [
      "100%|████████████████████████████████████████████████████████████████████████████████████| 7/7 [01:25<00:00, 11.62s/it]\n"
     ]
    }
   ],
   "source": [
    "scan_obj = ta.Scan(X.values, y_binary, \n",
    "            params=p,\n",
    "            model=get_model,\n",
    "            experiment_name='Experiment_1',\n",
    "            seed = seed,\n",
    "            val_split=0.33,\n",
    "            fraction_limit=0.2)"
   ]
  },
  {
   "cell_type": "code",
   "execution_count": 47,
   "metadata": {
    "ExecuteTime": {
     "end_time": "2020-01-13T12:05:39.007969Z",
     "start_time": "2020-01-13T12:05:39.004969Z"
    }
   },
   "outputs": [],
   "source": [
    "report = ta.Reporting(scan_obj)"
   ]
  },
  {
   "cell_type": "code",
   "execution_count": 48,
   "metadata": {
    "ExecuteTime": {
     "end_time": "2020-01-13T12:05:40.134647Z",
     "start_time": "2020-01-13T12:05:40.117655Z"
    }
   },
   "outputs": [
    {
     "data": {
      "text/html": [
       "<div>\n",
       "<style scoped>\n",
       "    .dataframe tbody tr th:only-of-type {\n",
       "        vertical-align: middle;\n",
       "    }\n",
       "\n",
       "    .dataframe tbody tr th {\n",
       "        vertical-align: top;\n",
       "    }\n",
       "\n",
       "    .dataframe thead th {\n",
       "        text-align: right;\n",
       "    }\n",
       "</style>\n",
       "<table border=\"1\" class=\"dataframe\">\n",
       "  <thead>\n",
       "    <tr style=\"text-align: right;\">\n",
       "      <th></th>\n",
       "      <th>round_epochs</th>\n",
       "      <th>val_loss</th>\n",
       "      <th>val_acc</th>\n",
       "      <th>loss</th>\n",
       "      <th>acc</th>\n",
       "      <th>batch_size</th>\n",
       "      <th>dropout</th>\n",
       "      <th>epochs</th>\n",
       "      <th>layers</th>\n",
       "      <th>n_features</th>\n",
       "    </tr>\n",
       "  </thead>\n",
       "  <tbody>\n",
       "    <tr>\n",
       "      <th>6</th>\n",
       "      <td>15</td>\n",
       "      <td>0.388998</td>\n",
       "      <td>0.827842</td>\n",
       "      <td>0.398937</td>\n",
       "      <td>0.822756</td>\n",
       "      <td>256</td>\n",
       "      <td>0.0</td>\n",
       "      <td>15</td>\n",
       "      <td>[{'n': 20}]</td>\n",
       "      <td>42</td>\n",
       "    </tr>\n",
       "    <tr>\n",
       "      <th>2</th>\n",
       "      <td>10</td>\n",
       "      <td>0.419502</td>\n",
       "      <td>0.811985</td>\n",
       "      <td>0.448793</td>\n",
       "      <td>0.790769</td>\n",
       "      <td>128</td>\n",
       "      <td>0.2</td>\n",
       "      <td>10</td>\n",
       "      <td>[{'n': 20}]</td>\n",
       "      <td>42</td>\n",
       "    </tr>\n",
       "    <tr>\n",
       "      <th>4</th>\n",
       "      <td>15</td>\n",
       "      <td>0.429356</td>\n",
       "      <td>0.804778</td>\n",
       "      <td>0.433473</td>\n",
       "      <td>0.802502</td>\n",
       "      <td>128</td>\n",
       "      <td>0.2</td>\n",
       "      <td>15</td>\n",
       "      <td>[{'n': 20}, {'n': 20}]</td>\n",
       "      <td>42</td>\n",
       "    </tr>\n",
       "    <tr>\n",
       "      <th>3</th>\n",
       "      <td>10</td>\n",
       "      <td>0.574382</td>\n",
       "      <td>0.803817</td>\n",
       "      <td>0.397897</td>\n",
       "      <td>0.823026</td>\n",
       "      <td>128</td>\n",
       "      <td>0.0</td>\n",
       "      <td>10</td>\n",
       "      <td>[{'n': 20}, {'n': 20}]</td>\n",
       "      <td>42</td>\n",
       "    </tr>\n",
       "    <tr>\n",
       "      <th>5</th>\n",
       "      <td>10</td>\n",
       "      <td>0.441167</td>\n",
       "      <td>0.803062</td>\n",
       "      <td>0.455866</td>\n",
       "      <td>0.789721</td>\n",
       "      <td>256</td>\n",
       "      <td>0.2</td>\n",
       "      <td>10</td>\n",
       "      <td>[{'n': 20}, {'n': 20}]</td>\n",
       "      <td>42</td>\n",
       "    </tr>\n",
       "    <tr>\n",
       "      <th>0</th>\n",
       "      <td>5</td>\n",
       "      <td>0.444177</td>\n",
       "      <td>0.797776</td>\n",
       "      <td>0.462445</td>\n",
       "      <td>0.781775</td>\n",
       "      <td>256</td>\n",
       "      <td>0.2</td>\n",
       "      <td>5</td>\n",
       "      <td>[{'n': 20}, {'n': 20}]</td>\n",
       "      <td>42</td>\n",
       "    </tr>\n",
       "    <tr>\n",
       "      <th>1</th>\n",
       "      <td>10</td>\n",
       "      <td>0.957457</td>\n",
       "      <td>0.770799</td>\n",
       "      <td>0.428191</td>\n",
       "      <td>0.819341</td>\n",
       "      <td>128</td>\n",
       "      <td>0.0</td>\n",
       "      <td>10</td>\n",
       "      <td>[{'n': 20}]</td>\n",
       "      <td>42</td>\n",
       "    </tr>\n",
       "  </tbody>\n",
       "</table>\n",
       "</div>"
      ],
      "text/plain": [
       "   round_epochs  val_loss   val_acc      loss       acc  batch_size  dropout  \\\n",
       "6            15  0.388998  0.827842  0.398937  0.822756         256      0.0   \n",
       "2            10  0.419502  0.811985  0.448793  0.790769         128      0.2   \n",
       "4            15  0.429356  0.804778  0.433473  0.802502         128      0.2   \n",
       "3            10  0.574382  0.803817  0.397897  0.823026         128      0.0   \n",
       "5            10  0.441167  0.803062  0.455866  0.789721         256      0.2   \n",
       "0             5  0.444177  0.797776  0.462445  0.781775         256      0.2   \n",
       "1            10  0.957457  0.770799  0.428191  0.819341         128      0.0   \n",
       "\n",
       "   epochs                  layers  n_features  \n",
       "6      15             [{'n': 20}]          42  \n",
       "2      10             [{'n': 20}]          42  \n",
       "4      15  [{'n': 20}, {'n': 20}]          42  \n",
       "3      10  [{'n': 20}, {'n': 20}]          42  \n",
       "5      10  [{'n': 20}, {'n': 20}]          42  \n",
       "0       5  [{'n': 20}, {'n': 20}]          42  \n",
       "1      10             [{'n': 20}]          42  "
      ]
     },
     "execution_count": 48,
     "metadata": {},
     "output_type": "execute_result"
    }
   ],
   "source": [
    "report.data.sort_values('val_acc', ascending=False)"
   ]
  },
  {
   "cell_type": "code",
   "execution_count": 49,
   "metadata": {
    "ExecuteTime": {
     "end_time": "2020-01-13T12:05:41.444966Z",
     "start_time": "2020-01-13T12:05:41.436970Z"
    }
   },
   "outputs": [
    {
     "data": {
      "text/plain": [
       "batch_size    0.365028\n",
       "dropout       0.111576\n",
       "epochs        0.450218\n",
       "n_features         NaN\n",
       "Name: val_acc, dtype: float64"
      ]
     },
     "execution_count": 49,
     "metadata": {},
     "output_type": "execute_result"
    }
   ],
   "source": [
    "report.correlate('val_acc')"
   ]
  },
  {
   "cell_type": "code",
   "execution_count": 52,
   "metadata": {
    "ExecuteTime": {
     "end_time": "2020-01-13T12:07:12.259161Z",
     "start_time": "2020-01-13T12:07:12.052250Z"
    }
   },
   "outputs": [
    {
     "data": {
      "image/png": "[encoded data removed]",
      "text/plain": [
       "<Figure size 720x475.2 with 1 Axes>"
      ]
     },
     "metadata": {},
     "output_type": "display_data"
    }
   ],
   "source": [
    "report.plot_hist('val_acc', bins=10)"
   ]
  },
  {
   "cell_type": "code",
   "execution_count": 50,
   "metadata": {
    "ExecuteTime": {
     "end_time": "2020-01-13T12:06:17.064017Z",
     "start_time": "2020-01-13T12:06:16.727274Z"
    }
   },
   "outputs": [
    {
     "data": {
      "image/png": "[encoded data removed]",
      "text/plain": [
       "<Figure size 720x475.2 with 1 Axes>"
      ]
     },
     "metadata": {},
     "output_type": "display_data"
    }
   ],
   "source": [
    "report.plot_kde('val_acc')"
   ]
  }
 ],
 "metadata": {
  "kernelspec": {
   "display_name": "Python3 ML-GPU",
   "language": "python",
   "name": "ml"
  },
  "language_info": {
   "codemirror_mode": {
    "name": "ipython",
    "version": 3
   },
   "file_extension": ".py",
   "mimetype": "text/x-python",
   "name": "python",
   "nbconvert_exporter": "python",
   "pygments_lexer": "ipython3",
   "version": "3.6.6"
  },
  "toc": {
   "base_numbering": 1,
   "nav_menu": {},
   "number_sections": true,
   "sideBar": true,
   "skip_h1_title": true,
   "title_cell": "Table of Contents",
   "title_sidebar": "Contents",
   "toc_cell": false,
   "toc_position": {},
   "toc_section_display": true,
   "toc_window_display": false
  },
  "varInspector": {
   "cols": {
    "lenName": 16,
    "lenType": 16,
    "lenVar": 40
   },
   "kernels_config": {
    "python": {
     "delete_cmd_postfix": "",
     "delete_cmd_prefix": "del ",
     "library": "var_list.py",
     "varRefreshCmd": "print(var_dic_list())"
    },
    "r": {
     "delete_cmd_postfix": ") ",
     "delete_cmd_prefix": "rm(",
     "library": "var_list.r",
     "varRefreshCmd": "cat(var_dic_list()) "
    }
   },
   "types_to_exclude": [
    "module",
    "function",
    "builtin_function_or_method",
    "instance",
    "_Feature"
   ],
   "window_display": false
  }
 },
 "nbformat": 4,
 "nbformat_minor": 2
}
